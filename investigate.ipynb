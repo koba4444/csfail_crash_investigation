{
 "cells": [
  {
   "cell_type": "code",
   "execution_count": 31,
   "outputs": [],
   "source": [
    "import pandas as pd\n",
    "import time\n",
    "import datetime"
   ],
   "metadata": {
    "collapsed": false,
    "ExecuteTime": {
     "end_time": "2023-05-19T19:39:02.917766357Z",
     "start_time": "2023-05-19T19:39:02.870469767Z"
    }
   }
  },
  {
   "cell_type": "code",
   "execution_count": 41,
   "metadata": {
    "collapsed": true,
    "ExecuteTime": {
     "end_time": "2023-05-19T20:07:25.506013841Z",
     "start_time": "2023-05-19T20:07:25.461808828Z"
    }
   },
   "outputs": [
    {
     "name": "stdout",
     "output_type": "stream",
     "text": [
      "         Round   Ratio\n",
      "0    3920001.0    3.08\n",
      "1    3920002.0  109.08\n",
      "2    3920003.0    2.39\n",
      "3    3920004.0    2.83\n",
      "4    3920005.0    2.51\n",
      "..         ...     ...\n",
      "934  3920935.0    1.29\n",
      "935  3920936.0   68.64\n",
      "936  3920937.0    1.07\n",
      "937  3920938.0    1.17\n",
      "938  3920939.0    2.46\n",
      "\n",
      "[939 rows x 2 columns]\n"
     ]
    }
   ],
   "source": [
    "        import pickle\n",
    "        with open('./csfail_ratios.pkl', 'rb') as f:\n",
    "            result = pickle.load(f)\n",
    "        print(result.loc[-30:])"
   ]
  },
  {
   "cell_type": "code",
   "execution_count": 39,
   "outputs": [
    {
     "name": "stdout",
     "output_type": "stream",
     "text": [
      "       Round   Time    GrabDate    Bank PersonsNumber  Ratio\n",
      "0    3927587  16:09  19-05-2023  354.02            86   1.00\n",
      "1    3927588  16:10  19-05-2023  350.55           107   1.57\n",
      "2    3927589  16:10  19-05-2023  230.10            77   2.53\n",
      "3    3927590  16:10  19-05-2023  216.72            63   2.01\n",
      "4    3927591  16:11  19-05-2023  218.13            73   1.56\n",
      "..       ...    ...         ...     ...           ...    ...\n",
      "811  3928655  23:01  19-05-2023   77.94            44   1.46\n",
      "812  3928656  23:02  19-05-2023   86.88            49   1.68\n",
      "813  3928657  23:02  19-05-2023   94.77            48   1.89\n",
      "814  3928658  23:02  19-05-2023   78.33            46   2.03\n",
      "815  3928659  23:03  19-05-2023   83.18            44   2.98\n",
      "\n",
      "[816 rows x 6 columns]\n"
     ]
    }
   ],
   "source": [
    "        with open('./csfail_history.pkl', 'rb') as f:\n",
    "            result = pickle.load(f)\n",
    "        print(result)\n"
   ],
   "metadata": {
    "collapsed": false,
    "ExecuteTime": {
     "end_time": "2023-05-19T20:05:25.576588759Z",
     "start_time": "2023-05-19T20:05:25.573062904Z"
    }
   }
  },
  {
   "cell_type": "code",
   "execution_count": 39,
   "outputs": [],
   "source": [],
   "metadata": {
    "collapsed": false,
    "ExecuteTime": {
     "end_time": "2023-05-19T20:05:30.038350598Z",
     "start_time": "2023-05-19T20:05:30.033753392Z"
    }
   }
  },
  {
   "cell_type": "code",
   "execution_count": 43,
   "outputs": [
    {
     "name": "stdout",
     "output_type": "stream",
     "text": [
      "        Round  Stake   Win  Ratio  \\\n",
      "4029  3920077   0.70  0.84   1.20   \n",
      "4030  3920077   0.36  0.72   2.00   \n",
      "4031  3920077   0.33  0.66   2.00   \n",
      "4032  3920077   0.10  0.13   1.25   \n",
      "4033  3920077   0.10  0.11   1.10   \n",
      "\n",
      "                                                 Player  \n",
      "4029  https://media2.giphy.com/media/lSn7sPCLGytyauG...  \n",
      "4030  https://media4.giphy.com/media/3oEjHECc1Gftirn...  \n",
      "4031  https://media.giphy.com/media/0s8fMkom67vdD8dz...  \n",
      "4032  https://avatars.steamstatic.com/3c657f84627a0e...  \n",
      "4033  https://media.giphy.com/media/rtRflhLVzbNWU/gi...  \n",
      "Player\n",
      "https://avatars.steamstatic.com/001ab88d8bd6dfae1d5f6be34578222aaa74d58a_medium.jpg                                                                                                    1\n",
      "https://avatars.steamstatic.com/005ff5a46eb1612fe30794e31a84e72ad50f8949_medium.jpg                                                                                                    9\n",
      "https://avatars.steamstatic.com/00a2b4ea585b8e03ae65dc0ddf3d6ad01b8fcdc1_medium.jpg                                                                                                    2\n",
      "https://avatars.steamstatic.com/0105206c06dd7d054346d864160f1fd8e2b532dc_medium.jpg                                                                                                    3\n",
      "https://avatars.steamstatic.com/011d032a467e0ed8d68ac516516a354a0cd91dec_medium.jpg                                                                                                    2\n",
      "                                                                                                                                                                                      ..\n",
      "https://media3.giphy.com/media/xUPGcIHI94g6MBTiYo/100w.gif                                                                                                                             5\n",
      "https://media4.giphy.com/media/2GrNmaGsI2ybu/100w.gif                                                                                                                                  1\n",
      "https://media4.giphy.com/media/3oEjHECc1GftirnHZm/100w.gif                                                                                                                             1\n",
      "https://media4.giphy.com/media/l3q2Vv2e8WIrU4r2o/100w.gif                                                                                                                              1\n",
      "https://sun9-14.userapi.com/s/v1/ig2/5hmlFUiiEKOm-rIw3bYxTea2d0SOSmDO7NmdfPediGS3_PiSZ-ToxesMqvn3v2ngv0d-L_1UTUVEEbm8jXsEJ-cH.jpg?size=200x200&quality=95&crop=14,270,526,526&ava=1    1\n",
      "Length: 1103, dtype: int64\n",
      "26\n"
     ]
    }
   ],
   "source": [
    "        with open('./csfail_rounds_w_persons.pkl', 'rb') as f:\n",
    "            result = pickle.load(f)\n",
    "        print(result.tail())\n",
    "        print(result.groupby(\"Player\").size())\n",
    "        print(result.groupby(\"Player\").size().max())"
   ],
   "metadata": {
    "collapsed": false,
    "ExecuteTime": {
     "end_time": "2023-05-19T20:29:06.985451269Z",
     "start_time": "2023-05-19T20:29:06.958200600Z"
    }
   }
  },
  {
   "cell_type": "code",
   "execution_count": 35,
   "outputs": [
    {
     "data": {
      "text/plain": "Round      object\nStake     float64\nWin       float64\nRatio     float64\nPlayer     object\ndtype: object"
     },
     "execution_count": 35,
     "metadata": {},
     "output_type": "execute_result"
    }
   ],
   "source": [
    "result.dtypes"
   ],
   "metadata": {
    "collapsed": false,
    "ExecuteTime": {
     "end_time": "2023-05-19T19:39:10.004377975Z",
     "start_time": "2023-05-19T19:39:10.000346159Z"
    }
   }
  },
  {
   "cell_type": "code",
   "execution_count": 38,
   "outputs": [],
   "source": [],
   "metadata": {
    "collapsed": false,
    "ExecuteTime": {
     "end_time": "2023-05-18T16:27:53.834521551Z",
     "start_time": "2023-05-18T16:27:53.831674179Z"
    }
   }
  },
  {
   "cell_type": "code",
   "execution_count": 38,
   "outputs": [],
   "source": [],
   "metadata": {
    "collapsed": false,
    "ExecuteTime": {
     "end_time": "2023-05-18T16:27:55.071782185Z",
     "start_time": "2023-05-18T16:27:55.061170034Z"
    }
   }
  },
  {
   "cell_type": "code",
   "execution_count": null,
   "outputs": [],
   "source": [],
   "metadata": {
    "collapsed": false
   }
  }
 ],
 "metadata": {
  "kernelspec": {
   "display_name": "Python 3",
   "language": "python",
   "name": "python3"
  },
  "language_info": {
   "codemirror_mode": {
    "name": "ipython",
    "version": 2
   },
   "file_extension": ".py",
   "mimetype": "text/x-python",
   "name": "python",
   "nbconvert_exporter": "python",
   "pygments_lexer": "ipython2",
   "version": "2.7.6"
  }
 },
 "nbformat": 4,
 "nbformat_minor": 0
}
