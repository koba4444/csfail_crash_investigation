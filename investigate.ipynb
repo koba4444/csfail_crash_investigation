{
 "cells": [
  {
   "cell_type": "code",
   "execution_count": 1,
   "outputs": [],
   "source": [
    "import pandas as pd\n",
    "import time\n",
    "import datetime"
   ],
   "metadata": {
    "collapsed": false,
    "ExecuteTime": {
     "end_time": "2023-05-18T21:00:51.373860117Z",
     "start_time": "2023-05-18T21:00:51.371619532Z"
    }
   }
  },
  {
   "cell_type": "code",
   "execution_count": 2,
   "metadata": {
    "collapsed": true,
    "ExecuteTime": {
     "end_time": "2023-05-19T14:24:10.418077100Z",
     "start_time": "2023-05-19T14:24:10.376789094Z"
    }
   },
   "outputs": [
    {
     "name": "stdout",
     "output_type": "stream",
     "text": [
      "         Round   Ratio\n",
      "0    3920001.0    3.08\n",
      "1    3920002.0  109.08\n",
      "2    3920003.0    2.39\n",
      "3    3920004.0    2.83\n",
      "4    3920005.0    2.51\n",
      "..         ...     ...\n",
      "720  3920721.0    1.08\n",
      "721  3920722.0    1.19\n",
      "722  3920723.0    1.39\n",
      "723  3920724.0    5.14\n",
      "724  3920725.0    3.07\n",
      "\n",
      "[725 rows x 2 columns]\n"
     ]
    }
   ],
   "source": [
    "        import pickle\n",
    "        with open('./csfail_ratios.pkl', 'rb') as f:\n",
    "            result = pickle.load(f)\n",
    "        print(result.loc[-30:])"
   ]
  },
  {
   "cell_type": "code",
   "execution_count": 37,
   "outputs": [
    {
     "name": "stdout",
     "output_type": "stream",
     "text": [
      "0      True\n",
      "1      True\n",
      "2      True\n",
      "3      True\n",
      "4      True\n",
      "       ... \n",
      "121    True\n",
      "122    True\n",
      "123    True\n",
      "124    True\n",
      "125    True\n",
      "Name: Round, Length: 126, dtype: bool\n"
     ]
    }
   ],
   "source": [
    "print(result[\"Round\"] == 3920001)\n"
   ],
   "metadata": {
    "collapsed": false,
    "ExecuteTime": {
     "end_time": "2023-05-18T16:27:53.090738301Z",
     "start_time": "2023-05-18T16:27:53.049678693Z"
    }
   }
  },
  {
   "cell_type": "code",
   "execution_count": 38,
   "outputs": [],
   "source": [
    "\n",
    "#list(map(lambda x: x.values()[3], l))"
   ],
   "metadata": {
    "collapsed": false,
    "ExecuteTime": {
     "end_time": "2023-05-18T16:27:53.455515330Z",
     "start_time": "2023-05-18T16:27:53.449992220Z"
    }
   }
  },
  {
   "cell_type": "code",
   "execution_count": 38,
   "outputs": [],
   "source": [],
   "metadata": {
    "collapsed": false,
    "ExecuteTime": {
     "end_time": "2023-05-18T16:27:53.834521551Z",
     "start_time": "2023-05-18T16:27:53.831674179Z"
    }
   }
  },
  {
   "cell_type": "code",
   "execution_count": 38,
   "outputs": [],
   "source": [],
   "metadata": {
    "collapsed": false,
    "ExecuteTime": {
     "end_time": "2023-05-18T16:27:55.071782185Z",
     "start_time": "2023-05-18T16:27:55.061170034Z"
    }
   }
  },
  {
   "cell_type": "code",
   "execution_count": null,
   "outputs": [],
   "source": [],
   "metadata": {
    "collapsed": false
   }
  }
 ],
 "metadata": {
  "kernelspec": {
   "display_name": "Python 3",
   "language": "python",
   "name": "python3"
  },
  "language_info": {
   "codemirror_mode": {
    "name": "ipython",
    "version": 2
   },
   "file_extension": ".py",
   "mimetype": "text/x-python",
   "name": "python",
   "nbconvert_exporter": "python",
   "pygments_lexer": "ipython2",
   "version": "2.7.6"
  }
 },
 "nbformat": 4,
 "nbformat_minor": 0
}
