{
 "cells": [
  {
   "cell_type": "code",
   "execution_count": 2,
   "outputs": [],
   "source": [
    "import pandas as pd\n",
    "import time\n",
    "import datetime"
   ],
   "metadata": {
    "collapsed": false,
    "ExecuteTime": {
     "end_time": "2023-05-19T17:22:04.668670099Z",
     "start_time": "2023-05-19T17:22:04.660689668Z"
    }
   }
  },
  {
   "cell_type": "code",
   "execution_count": 3,
   "metadata": {
    "collapsed": true,
    "ExecuteTime": {
     "end_time": "2023-05-19T17:22:05.528469782Z",
     "start_time": "2023-05-19T17:22:05.516214578Z"
    }
   },
   "outputs": [
    {
     "name": "stdout",
     "output_type": "stream",
     "text": [
      "         Round   Ratio\n",
      "0    3920001.0    3.08\n",
      "1    3920002.0  109.08\n",
      "2    3920003.0    2.39\n",
      "3    3920004.0    2.83\n",
      "4    3920005.0    2.51\n",
      "..         ...     ...\n",
      "934  3920935.0    1.29\n",
      "935  3920936.0   68.64\n",
      "936  3920937.0    1.07\n",
      "937  3920938.0    1.17\n",
      "938  3920939.0    2.46\n",
      "\n",
      "[939 rows x 2 columns]\n"
     ]
    }
   ],
   "source": [
    "        import pickle\n",
    "        with open('./csfail_ratios.pkl', 'rb') as f:\n",
    "            result = pickle.load(f)\n",
    "        print(result.loc[-30:])"
   ]
  },
  {
   "cell_type": "code",
   "execution_count": 4,
   "outputs": [
    {
     "name": "stdout",
     "output_type": "stream",
     "text": [
      "       Round   Time    GrabDate    Bank PersonsNumber  Ratio\n",
      "0    3927587  16:09  19-05-2023  354.02            86   1.00\n",
      "1    3927588  16:10  19-05-2023  350.55           107   1.57\n",
      "2    3927589  16:10  19-05-2023  230.10            77   2.53\n",
      "3    3927590  16:10  19-05-2023  216.72            63   2.01\n",
      "4    3927591  16:11  19-05-2023  218.13            73   1.56\n",
      "..       ...    ...         ...     ...           ...    ...\n",
      "631  3928218  20:13  19-05-2023  198.51           115   1.00\n",
      "632  3928219  20:14  19-05-2023  252.58           112   1.43\n",
      "633  3928220  20:14  19-05-2023  212.60           118   4.28\n",
      "634  3928221  20:14  19-05-2023  174.74            95   1.64\n",
      "635  3928222  20:15  19-05-2023  205.80           110   1.63\n",
      "\n",
      "[636 rows x 6 columns]\n"
     ]
    }
   ],
   "source": [
    "        with open('./csfail_history.pkl', 'rb') as f:\n",
    "            result = pickle.load(f)\n",
    "        print(result.loc[-30:])\n"
   ],
   "metadata": {
    "collapsed": false,
    "ExecuteTime": {
     "end_time": "2023-05-19T17:22:06.384088951Z",
     "start_time": "2023-05-19T17:22:06.362606595Z"
    }
   }
  },
  {
   "cell_type": "code",
   "execution_count": 8,
   "outputs": [
    {
     "name": "stdout",
     "output_type": "stream",
     "text": [
      "       Round  Stake    Win  Ratio  \\\n",
      "0    3920001  11.11  22.19   2.00   \n",
      "1    3920001  10.72  23.45   2.19   \n",
      "2    3920001  10.58  17.81   1.69   \n",
      "3    3920001   9.93  -9.93   3.43   \n",
      "4    3920001   7.91   8.70   1.10   \n",
      "..       ...    ...    ...    ...   \n",
      "622  3920009  10.24  10.30   1.01   \n",
      "623  3920009   8.32  -8.32   1.50   \n",
      "624  3920009   8.20  10.08   1.23   \n",
      "625  3920009   8.00   9.60   1.20   \n",
      "626  3920009   7.46   9.46   1.27   \n",
      "\n",
      "                                                Player  \n",
      "0    https://avatars.steamstatic.com/09e64aee9a10d9...  \n",
      "1    https://avatars.steamstatic.com/5ff4b157629aff...  \n",
      "2    https://avatars.steamstatic.com/f3737a8a0d38ed...  \n",
      "3    https://avatars.steamstatic.com/37c66ac4844775...  \n",
      "4    https://avatars.steamstatic.com/c70b40ee128ef5...  \n",
      "..                                                 ...  \n",
      "622  https://avatars.steamstatic.com/1235a961e987ab...  \n",
      "623  https://avatars.steamstatic.com/f10b8f207dfb83...  \n",
      "624  https://avatars.steamstatic.com/a627d3c0e9fe31...  \n",
      "625  https://avatars.steamstatic.com/fef49e7fa7e199...  \n",
      "626  https://avatars.steamstatic.com/d9af3b4ebce22f...  \n",
      "\n",
      "[627 rows x 5 columns]\n",
      "Player\n",
      "https://avatars.steamstatic.com/011d032a467e0ed8d68ac516516a354a0cd91dec_medium.jpg    2\n",
      "https://avatars.steamstatic.com/02343382a5efb51d5c2c443ef5a24b9bfc93af94_medium.jpg    2\n",
      "https://avatars.steamstatic.com/02368dd35d62fae079446785a0c84697303cce9a_medium.jpg    1\n",
      "https://avatars.steamstatic.com/036aa2f2833f316822589d8b0e7fcf060ad43105_medium.jpg    1\n",
      "https://avatars.steamstatic.com/03a5b88b197f70103e9a6d6e96749fc03fc658cd_medium.jpg    1\n",
      "                                                                                      ..\n",
      "https://media.giphy.com/media/l41lJElw4j21UsvBe/giphy.gif                              1\n",
      "https://media.giphy.com/media/qrvyxMu3zhG8KXgHdm/giphy.gif                             1\n",
      "https://media.giphy.com/media/xTiN0NcyrobFQjcRtm/giphy.gif                             1\n",
      "https://media2.giphy.com/media/52J5JUgmUdkCA/100w.gif                                  1\n",
      "https://media4.giphy.com/media/2GrNmaGsI2ybu/100w.gif                                  1\n",
      "Length: 473, dtype: int64\n",
      "4\n"
     ]
    }
   ],
   "source": [
    "        with open('./csfail_rounds_w_persons.pkl', 'rb') as f:\n",
    "            result = pickle.load(f)\n",
    "        print(result)\n",
    "        print(result.groupby(\"Player\").size())\n",
    "        print(result.groupby(\"Player\").size().max())"
   ],
   "metadata": {
    "collapsed": false,
    "ExecuteTime": {
     "end_time": "2023-05-19T17:23:48.323074032Z",
     "start_time": "2023-05-19T17:23:48.282312810Z"
    }
   }
  },
  {
   "cell_type": "code",
   "execution_count": 38,
   "outputs": [],
   "source": [],
   "metadata": {
    "collapsed": false,
    "ExecuteTime": {
     "end_time": "2023-05-18T16:27:53.834521551Z",
     "start_time": "2023-05-18T16:27:53.831674179Z"
    }
   }
  },
  {
   "cell_type": "code",
   "execution_count": 38,
   "outputs": [],
   "source": [],
   "metadata": {
    "collapsed": false,
    "ExecuteTime": {
     "end_time": "2023-05-18T16:27:55.071782185Z",
     "start_time": "2023-05-18T16:27:55.061170034Z"
    }
   }
  },
  {
   "cell_type": "code",
   "execution_count": null,
   "outputs": [],
   "source": [],
   "metadata": {
    "collapsed": false
   }
  }
 ],
 "metadata": {
  "kernelspec": {
   "display_name": "Python 3",
   "language": "python",
   "name": "python3"
  },
  "language_info": {
   "codemirror_mode": {
    "name": "ipython",
    "version": 2
   },
   "file_extension": ".py",
   "mimetype": "text/x-python",
   "name": "python",
   "nbconvert_exporter": "python",
   "pygments_lexer": "ipython2",
   "version": "2.7.6"
  }
 },
 "nbformat": 4,
 "nbformat_minor": 0
}
